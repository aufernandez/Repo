{
 "cells": [
  {
   "cell_type": "code",
   "execution_count": 2,
   "metadata": {},
   "outputs": [],
   "source": [
    "from CONSTANTES import PERSONAS, ATRACCIONES\n",
    "from collections import deque\n",
    "from datetime import date,datetime"
   ]
  },
  {
   "cell_type": "code",
   "execution_count": 3,
   "metadata": {},
   "outputs": [],
   "source": [
    "def birth_to_age(fecha):  #función para obtener la edad a partir de la fecha de nacimiento\n",
    "    j=fecha\n",
    "    año = int(j[0]+j[1]+j[2]+j[3])\n",
    "    mes = int(j[5]+j[6])\n",
    "    dia = int(j[8]+j[9])\n",
    "    birth_date = date(año, mes, dia)\n",
    "    years = date.today().year - birth_date.year\n",
    "    if (date.today() - birth_date.replace(year=date.today().year)).days >= 0:\n",
    "        age = years\n",
    "    else:\n",
    "        age = years - 1\n",
    "    return age\n",
    "#a=birth_to_age('2005-10-16')\n",
    "#print(a)"
   ]
  },
  {
   "cell_type": "code",
   "execution_count": null,
   "metadata": {},
   "outputs": [],
   "source": []
  },
  {
   "cell_type": "code",
   "execution_count": 12,
   "metadata": {},
   "outputs": [],
   "source": [
    "class Atraccion:\n",
    "    def __init__(self,nombre,capacidad,entrada,costo,tiempo,dueno): #El input son todos los datos de una ATRACCION\n",
    "        self.nombre = nombre\n",
    "        self.capacidad = capacidad\n",
    "        self.entrada = entrada             #costo_entrada\n",
    "        self.costo = costo                 #costo_atraccion (lo que cuesta comprarla)\n",
    "        self.tiempo = tiempo               #minutos_por_vuelta\n",
    "    \n",
    "        \n",
    "        self.cola = deque()                #los que están esperando para entrar\n",
    "        self.usuarios = []                 #los que están adentro de la atracción\n",
    "        self.recaudacion = 0               #***lo recaudado hasta el momento, en algún momento esto se traspasa a Antonio??\n",
    "        self.contador_clientes = 0         #***lleva la cuenta de todos los que han ENTRADO, no sé si voy a usar esto jaja\n",
    "        self.reloj = 0                     #cuenta regresiva, parte en 0 para que la función cuenta_regresiva se ejecute\n",
    "                                           #cuando parta la simulación (la primera subida ocurre solo si reloj==0.\n",
    "                                           #A medida que avanza la simulación va bajando hasta llegar a 0, donde se \n",
    "                                           #sube una nueva tanda de clientes y vuelve a ser self.tiempo\n",
    "        \n",
    "        self.disponible = True             #***Esto va a ser False cuando esté siendo usada o cuando haya fallado y esté\n",
    "                                           #cerrada por 1 hora. Puede que sea innecesaria\n",
    "        self.reparacion = 60               # es lo mismo que self.reloj , pero empieza a andar después de que la atracción falla\n",
    "   \n",
    "    def aceptar_visitante (self,visitante):   #visitante es una instancia de la clase Visitante. Acá se suma a la cola\n",
    "        \n",
    "        self.cola.append(visitante)\n",
    "        #print(self.cola)\n",
    "        \n",
    "    def subir_visitantes (self):    #recibe al dueño como argumento, para que se le pague a él la entrada\n",
    "\n",
    "        for i in range(min(len(self.cola),self.capacidad)):   #Se suben los que quepan, o todos (si es que hay menos que la capacidad)\n",
    "            #subida\n",
    "            siguiente = self.cola.popleft()                   #\"siguiente\" es un Visitante\n",
    "\n",
    "            #pago:            \n",
    "            if siguiente.edad <=8:\n",
    "                pago = self.entrada/2\n",
    "                \n",
    "            else:\n",
    "                pago = self.entrada            \n",
    "            \n",
    "            siguiente.dinero = siguiente.dinero - pago   \n",
    "            self.dueno.dinero = self.dueno.dinero + pago\n",
    "            self.usuarios.append(siguiente)\n",
    "            self.contador_clientes = self.contador_clientes + 1\n",
    "            \n",
    "            if self.contador_clientes == 100:\n",
    "                self.fallar()                   #PENDIENTE\n",
    "                break                           #dejamos de subir clientes\n",
    "                    \n",
    "      \n",
    "        if len(self.usuarios) > self.capacidad:   #Un paréntesis, para cachar si el programa llegase a fallar\n",
    "            \n",
    "            print(\"El {} está sobre cargado perrito\".format(self.nombre))      \n",
    "\n",
    "    def cuenta_regresiva (self):                  #Esta función dirá cuándo inicia y termina un ciclo de uso o un ciclo\n",
    "                                                  #de reparación. Se llama cada vez que avanza el reloj de la simulación.\n",
    "        \n",
    "        if self.disponible and self.usuarios:    #EN ESTE CASO la atracción está andando y corriendo su tiempo de juego\n",
    "            self.reloj = self.reloj - 1          #(solo cuando hay gente arriba y está disponible)\n",
    "       \n",
    "        if self.disponible and self.reloj == 0:  #la primera condición es para evitar que suban clientes si la máquina está fallada\n",
    "            for usuario in self.usuarios:        #Cada usuario busca su siguiente atracción (si no hay usuarios, no se itera)\n",
    "                usuario.elegir_atraccion()  \n",
    "            self.usuarios=[]                     #vaciamos el juego\n",
    "            \n",
    "            #Subimos a los que están en la cola:\n",
    "           \n",
    "            self.subir_visitantes(self)    #la definimos de forma tal que suba automáticamente la gente de la cola\n",
    "            self.reloj = self.tiempo             #reiniciamos el reloj. Si es que al subir se alcanzó el cliente 100, falla. \n",
    "                \n",
    "        if not self.disponible:         #EN ESTE CASO la atracción falló y estamos esperando a que vuelva a estar disponible\n",
    "            self.reparacion = self.reparacion - 1\n",
    "            if self.reparacion == 0:\n",
    "                self.disponible = True\n",
    "                self.reparacion = 60\n",
    "                self.reloj = 0          #Esto lo hacemos únicamente para que se pueda ejecutar el if que viene justo arriba \n",
    "                                        #y suban clientes\n",
    "              \n",
    "    def fallar(self):      \n",
    "        self.disponible = False              #Se cierra la atracción. cuenta_regresiva hace que esto dure 1 hora\n",
    "        \n",
    "        for i in range(len(self.cola)):      #Ahora movemos a los clientes que estaban en la cola\n",
    "            aux=self.cola.popleft()\n",
    "            aux.elegir_atraccion()           #Los sacamos al mismo tiempo que buscan\n",
    "            \n",
    "        for usuario in self.usuarios:        #compensación de los que estaban jugando\n",
    "            if usuario.edad >= 18:\n",
    "                self.dueno.dinero = self.dueno.dinero - 10000\n",
    "            elif usuario.edad < 18:\n",
    "                self.dueno.dinero = self.dueno.dinero - 20000\n",
    "        \n",
    "        self.usuarios = []                   #los usuarios se van del parque             \n",
    "        \n",
    "\n",
    "class Parque:\n",
    "    def __init__(self,atracciones):                  #el input va a ser una lista con las 5 atracciones más caras\n",
    "    \n",
    "        self.atracciones                             #FALTA CREAR LA CLASE \"Atraccion\"\n",
    "\n",
    "\n",
    "class Persona:\n",
    "    def __init__(self, dinero = 0):\n",
    "        self.dinero = dinero\n",
    "\n",
    "\n",
    "\n",
    "class Visitante(Persona):                \n",
    "    def __init__(self,tupla,dinero=0):      #***recibirá de input, un elemento de la lista PERSONAS. Ojo con dinero\n",
    "        super().__init__(dinero)\n",
    "        self.dinero= tupla[0]\n",
    "        self.llegada= tupla[1]\n",
    "        self.nombre= tupla[2]\n",
    "        self.edad= birth_to_age(tupla[3]) \n",
    "            \n",
    "            \n",
    "    # def irse_dignamente(): NO ES NECESARIO DEFINIRLA, VER ÚLTIMA LÍNEA DE elegir_atraccion()        \n",
    "          \n",
    "    def elegir_atraccion():                             #buscar atracción\n",
    "        opciones=[]\n",
    "        for atraccion in PlaceHolder.atracciones:       #***quizás esto se puede hacer con un filter. AJUSTAR NOMBRE PARQUE\n",
    "            if atraccion.disponible:                    #solo buscaremos sobre las que están disponibl NO están cerradas\n",
    "                opciones.append(atraccion)\n",
    "        opciones.sort(key= lambda x: x.entrada)         #para ver cual es la más cara, las ordenamos de menor a mayor\n",
    "        \n",
    "        pagables = list(filter(lambda x: x.entrada <= self.dinero, opciones))\n",
    "        \n",
    "        \n",
    "        if pagables:                                    #si la lista no está vacía <-> si hay elecciones pagables\n",
    "            atraccion_elegida= pagables.pop()           #la de más a la derecha es la más cara\n",
    "            atraccion_elegida.aceptar_visitantes(self)  #ahora metemos al visitante a la cola de su elección     \n",
    "        else:\n",
    "            None      #***Quizás haya que hacer un Log aquí. No se hace nada más porque si no se le asigna una nueva \n",
    "                      #atracción no se almacenan en ninguna parte del parque, ergo ya no están dentro (SE RETIRARON DIGNAMENTE)"
   ]
  },
  {
   "cell_type": "code",
   "execution_count": null,
   "metadata": {},
   "outputs": [],
   "source": []
  },
  {
   "cell_type": "code",
   "execution_count": null,
   "metadata": {},
   "outputs": [],
   "source": []
  },
  {
   "cell_type": "code",
   "execution_count": null,
   "metadata": {},
   "outputs": [],
   "source": []
  },
  {
   "cell_type": "code",
   "execution_count": null,
   "metadata": {},
   "outputs": [],
   "source": []
  },
  {
   "cell_type": "code",
   "execution_count": 13,
   "metadata": {},
   "outputs": [
    {
     "ename": "TypeError",
     "evalue": "__init__() missing 1 required positional argument: 'dueno'",
     "output_type": "error",
     "traceback": [
      "\u001b[1;31m---------------------------------------------------------------------------\u001b[0m",
      "\u001b[1;31mTypeError\u001b[0m                                 Traceback (most recent call last)",
      "\u001b[1;32m<ipython-input-13-53b7fe7b0a72>\u001b[0m in \u001b[0;36m<module>\u001b[1;34m()\u001b[0m\n\u001b[0;32m      1\u001b[0m \u001b[1;34m\"\"\"PROBANDO\"\"\"\u001b[0m\u001b[1;33m\u001b[0m\u001b[0m\n\u001b[0;32m      2\u001b[0m \u001b[1;33m\u001b[0m\u001b[0m\n\u001b[1;32m----> 3\u001b[1;33m \u001b[0mCastillo\u001b[0m\u001b[1;33m=\u001b[0m\u001b[0mAtraccion\u001b[0m\u001b[1;33m(\u001b[0m\u001b[1;34m\"castillo\"\u001b[0m\u001b[1;33m,\u001b[0m\u001b[1;36m5\u001b[0m\u001b[1;33m,\u001b[0m\u001b[1;36m3000\u001b[0m\u001b[1;33m,\u001b[0m\u001b[1;36m45000\u001b[0m\u001b[1;33m,\u001b[0m\u001b[1;36m7\u001b[0m\u001b[1;33m)\u001b[0m\u001b[1;33m\u001b[0m\u001b[0m\n\u001b[0m\u001b[0;32m      4\u001b[0m \u001b[0mBryan\u001b[0m\u001b[1;33m=\u001b[0m\u001b[0mVisitante\u001b[0m\u001b[1;33m(\u001b[0m\u001b[1;33m(\u001b[0m\u001b[1;36m10000\u001b[0m\u001b[1;33m,\u001b[0m\u001b[1;36m2\u001b[0m\u001b[1;33m,\u001b[0m\u001b[1;34m\"Bryan\"\u001b[0m\u001b[1;33m,\u001b[0m\u001b[1;34m\"1996-01-18\"\u001b[0m\u001b[1;33m)\u001b[0m\u001b[1;33m)\u001b[0m\u001b[1;33m\u001b[0m\u001b[0m\n\u001b[0;32m      5\u001b[0m \u001b[0mAntonio\u001b[0m\u001b[1;33m=\u001b[0m\u001b[0mPersona\u001b[0m\u001b[1;33m(\u001b[0m\u001b[1;36m10000\u001b[0m\u001b[1;33m)\u001b[0m\u001b[1;33m\u001b[0m\u001b[0m\n",
      "\u001b[1;31mTypeError\u001b[0m: __init__() missing 1 required positional argument: 'dueno'"
     ]
    }
   ],
   "source": [
    "\"\"\"PROBANDO\"\"\"\n",
    "\n",
    "Castillo=Atraccion(\"castillo\",5,3000,45000,7)\n",
    "Bryan=Visitante((10000,2,\"Bryan\",\"1996-01-18\"))\n",
    "Antonio=Persona(10000)\n",
    "print(\"1\",Antonio.dinero)\n",
    "#Castillo.aceptar_visitante(Bryan)\n",
    "#Castillo.subir_visitantes(Antonio)\n",
    "#print(Castillo.usuarios)\n",
    "#print(Castillo.cola)\n",
    "#print(Bryan.dinero)\n",
    "\n",
    "#Castillo.fallar()\n",
    "dict_aux={}\n",
    "for i in range(81):\n",
    "    dict_aux[i]=Visitante((10000,2,\"Bryan_{}\".format(i),\"1996-01-18\"))\n",
    "    Castillo.aceptar_visitantes(dict_aux[i])\n",
    "    #print(dict_aux[i].nombre)\n",
    "    Castillo.cuenta_regresiva(Antonio)\n",
    "    #print(castillo.disponible,castillo.reloj,castillo.reparacion)\n",
    "    \n",
    "\n",
    "\n",
    "#print(castillo.disponible,castillo.reloj,castillo.reparacion)\n",
    "\n"
   ]
  },
  {
   "cell_type": "code",
   "execution_count": null,
   "metadata": {},
   "outputs": [],
   "source": [
    "def creadora_de_atracciones(ATRACCIONES):   #a partir del diccionario ATRACCIONES compuesto por listas, \n",
    "                                            #haremos otro diccionario compuesto por instancias de la clase Atraccion"
   ]
  },
  {
   "cell_type": "code",
   "execution_count": 11,
   "metadata": {},
   "outputs": [
    {
     "name": "stdout",
     "output_type": "stream",
     "text": [
      "deque([])\n",
      "False\n",
      "2\n"
     ]
    }
   ],
   "source": [
    "a=deque()\n",
    "print(a)\n",
    "if a:\n",
    "    print(True)\n",
    "else:\n",
    "    print(False)\n",
    "a.append(\"hola\")\n",
    "a.append(\"chao\")\n",
    "rint(len(a))"
   ]
  },
  {
   "cell_type": "code",
   "execution_count": 9,
   "metadata": {},
   "outputs": [
    {
     "name": "stdout",
     "output_type": "stream",
     "text": [
      "0\n"
     ]
    }
   ],
   "source": [
    "l=[]\n",
    "print(len(l))"
   ]
  },
  {
   "cell_type": "code",
   "execution_count": null,
   "metadata": {},
   "outputs": [],
   "source": []
  }
 ],
 "metadata": {
  "kernelspec": {
   "display_name": "Python 3",
   "language": "python",
   "name": "python3"
  },
  "language_info": {
   "codemirror_mode": {
    "name": "ipython",
    "version": 3
   },
   "file_extension": ".py",
   "mimetype": "text/x-python",
   "name": "python",
   "nbconvert_exporter": "python",
   "pygments_lexer": "ipython3",
   "version": "3.6.4"
  }
 },
 "nbformat": 4,
 "nbformat_minor": 2
}
