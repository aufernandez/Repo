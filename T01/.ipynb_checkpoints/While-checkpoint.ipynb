{
 "cells": [
  {
   "cell_type": "code",
   "execution_count": 36,
   "metadata": {},
   "outputs": [],
   "source": [
    "from CONSTANTES import PERSONAS, ATRACCIONES\n",
    "from collections import deque\n",
    "from datetime import date,datetime\n",
    "from T01 import *\n",
    "from abc import ABCMeta, abstractmethod"
   ]
  },
  {
   "cell_type": "code",
   "execution_count": 37,
   "metadata": {},
   "outputs": [
    {
     "ename": "NameError",
     "evalue": "name 'Dueno' is not defined",
     "output_type": "error",
     "traceback": [
      "\u001b[1;31m---------------------------------------------------------------------------\u001b[0m",
      "\u001b[1;31mNameError\u001b[0m                                 Traceback (most recent call last)",
      "\u001b[1;32m<ipython-input-37-16c07ef21f1b>\u001b[0m in \u001b[0;36m<module>\u001b[1;34m()\u001b[0m\n\u001b[1;32m----> 1\u001b[1;33m \u001b[0mprint\u001b[0m\u001b[1;33m(\u001b[0m\u001b[0mDueno\u001b[0m\u001b[1;33m)\u001b[0m\u001b[1;33m\u001b[0m\u001b[0m\n\u001b[0m",
      "\u001b[1;31mNameError\u001b[0m: name 'Dueno' is not defined"
     ]
    }
   ],
   "source": [
    "print(Dueno)"
   ]
  },
  {
   "cell_type": "code",
   "execution_count": 23,
   "metadata": {},
   "outputs": [
    {
     "ename": "NameError",
     "evalue": "name 'Dueno' is not defined",
     "output_type": "error",
     "traceback": [
      "\u001b[1;31m---------------------------------------------------------------------------\u001b[0m",
      "\u001b[1;31mNameError\u001b[0m                                 Traceback (most recent call last)",
      "\u001b[1;32m<ipython-input-23-94bbd56756ee>\u001b[0m in \u001b[0;36m<module>\u001b[1;34m()\u001b[0m\n\u001b[0;32m      1\u001b[0m \u001b[1;34m\"\"\"PROBANDO\"\"\"\u001b[0m\u001b[1;33m\u001b[0m\u001b[0m\n\u001b[0;32m      2\u001b[0m \u001b[1;33m\u001b[0m\u001b[0m\n\u001b[1;32m----> 3\u001b[1;33m \u001b[0mAntonio\u001b[0m\u001b[1;33m=\u001b[0m \u001b[0mDueno\u001b[0m\u001b[1;33m(\u001b[0m\u001b[1;33m)\u001b[0m\u001b[1;33m\u001b[0m\u001b[0m\n\u001b[0m\u001b[0;32m      4\u001b[0m \u001b[1;33m\u001b[0m\u001b[0m\n\u001b[0;32m      5\u001b[0m \u001b[0mCastillo\u001b[0m\u001b[1;33m=\u001b[0m\u001b[0mAtraccion\u001b[0m\u001b[1;33m(\u001b[0m\u001b[1;34m\"castillo\"\u001b[0m\u001b[1;33m,\u001b[0m\u001b[1;36m5\u001b[0m\u001b[1;33m,\u001b[0m\u001b[1;36m3000\u001b[0m\u001b[1;33m,\u001b[0m\u001b[1;36m45000\u001b[0m\u001b[1;33m,\u001b[0m\u001b[1;36m7\u001b[0m\u001b[1;33m)\u001b[0m\u001b[1;33m\u001b[0m\u001b[0m\n",
      "\u001b[1;31mNameError\u001b[0m: name 'Dueno' is not defined"
     ]
    }
   ],
   "source": [
    "\"\"\"PROBANDO\"\"\"\n",
    "\n",
    "Antonio= Dueno()\n",
    "\n",
    "Castillo=Atraccion(\"castillo\",5,3000,45000,7)\n",
    "Bryan=Visitante((10000,2,\"Bryan\",\"1996-01-18\"))\n",
    "Antonio=Persona(10000)\n",
    "print(\"1\",Antonio.dinero)\n",
    "#Castillo.aceptar_visitante(Bryan)\n",
    "#Castillo.subir_visitantes(Antonio)\n",
    "#print(Castillo.usuarios)\n",
    "#print(Castillo.cola)\n",
    "#print(Bryan.dinero)\n",
    "\n",
    "#Castillo.fallar()\n",
    "dict_aux={}\n",
    "for i in range(81):\n",
    "    dict_aux[i]=Visitante((10000,2,\"Bryan_{}\".format(i),\"1996-01-18\"))\n",
    "    Castillo.aceptar_visitantes(dict_aux[i])\n",
    "    #print(dict_aux[i].nombre)\n",
    "    Castillo.cuenta_regresiva(Antonio)\n",
    "    #print(castillo.disponible,castillo.reloj,castillo.reparacion)\n",
    "    \n",
    "\n",
    "\n",
    "#print(castillo.disponible,castillo.reloj,castillo.reparacion)\n"
   ]
  },
  {
   "cell_type": "code",
   "execution_count": null,
   "metadata": {},
   "outputs": [],
   "source": []
  }
 ],
 "metadata": {
  "kernelspec": {
   "display_name": "Python 3",
   "language": "python",
   "name": "python3"
  },
  "language_info": {
   "codemirror_mode": {
    "name": "ipython",
    "version": 3
   },
   "file_extension": ".py",
   "mimetype": "text/x-python",
   "name": "python",
   "nbconvert_exporter": "python",
   "pygments_lexer": "ipython3",
   "version": "3.6.4"
  }
 },
 "nbformat": 4,
 "nbformat_minor": 2
}
