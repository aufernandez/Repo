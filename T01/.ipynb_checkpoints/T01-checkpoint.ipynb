{
 "cells": [
  {
   "cell_type": "code",
   "execution_count": 39,
   "metadata": {},
   "outputs": [],
   "source": [
    "from CONSTANTES import PERSONAS, ATRACCIONES\n",
    "from collections import deque\n",
    "from datetime import date,datetime"
   ]
  },
  {
   "cell_type": "code",
   "execution_count": 40,
   "metadata": {},
   "outputs": [],
   "source": [
    "def birth_to_age(fecha):  #función para obtener la edad a partir de la fecha de nacimiento\n",
    "    j=fecha\n",
    "    año = int(j[0]+j[1]+j[2]+j[3])\n",
    "    mes = int(j[5]+j[6])\n",
    "    dia = int(j[8]+j[9])\n",
    "    birth_date = date(año, mes, dia)\n",
    "    years = date.today().year - birth_date.year\n",
    "    if (date.today() - birth_date.replace(year=date.today().year)).days >= 0:\n",
    "        age = years\n",
    "    else:\n",
    "        age = years - 1\n",
    "    return age\n",
    "#a=birth_to_age('2005-10-16')\n",
    "#print(a)"
   ]
  },
  {
   "cell_type": "code",
   "execution_count": null,
   "metadata": {},
   "outputs": [],
   "source": []
  },
  {
   "cell_type": "code",
   "execution_count": 66,
   "metadata": {},
   "outputs": [],
   "source": [
    "class Atraccion:\n",
    "    def __init__(self,nombre,capacidad,entrada,costo,tiempo): #El input son todos los datos de una ATRACCION\n",
    "        self.nombre=nombre\n",
    "        self.capacidad=capacidad\n",
    "        self.entrada=entrada               #costo_entrada\n",
    "        self.costo=costo                   #costo_atraccion (lo que cuesta comprarla)\n",
    "        self.tiempo=tiempo                 #minutos_por_vuelta\n",
    "        \n",
    "        self.cola=deque()                  #los que están esperando para entrar\n",
    "        self.usuarios=[]                   #los que están adentro de la atracción\n",
    "        self.recaudacion=0                 #***lo recaudado hasta el momento, en algún momento esto se traspasa a Antonio\n",
    "        self.contador_clientes=0           #***lleva la cuenta de todos los que han ENTRADO, no sé si voy a usar esto jaja\n",
    "        self.reloj=self.tiempo             #cuenta regresiva, parte siendo los minutos_por_vuelta. A medida que avanza la \n",
    "                                           #simulación va bajando hasta llegar a 0, donde se sube una nueva tanda de \n",
    "                                           #clientes y vuelve a ser self.tiempo\n",
    "        self.disponible=True               #***Esto va a ser False cuando esté siendo usada o cuando haya fallado y esté\n",
    "                                           #cerrada por 1 hora. Puede que sea innecesaria\n",
    "   \n",
    "    def aceptar_visitante (self,visitante):   #visitante es una instancia de la clase Visitante\n",
    "        \n",
    "        self.cola.append(visitante)\n",
    "        #print(self.cola)\n",
    "        \n",
    "       \n",
    "\n",
    "    def subir_visitantes (self):\n",
    "        \n",
    "        for i in range(min(len(self.cola),self.capacidad)):   #Se suben los que quepan, o todos (si es que hay menos que la capacidad)\n",
    "            siguiente=self.cola.popleft()\n",
    "            siguiente.dinero=siguiente.dinero-self\n",
    "            self.usuarios.append(siguiente)\n",
    "        \n",
    "        if len(self.usuarios)>self.capacidad:                               #Un paréntesis, para cachar si el programa llegase a fallar\n",
    "            print(\"El {} está sobre cargado perrito\".format(self.nombre))\n",
    "            \n",
    "        \n",
    "\n",
    "        \n",
    "\n",
    "    def cuenta_regresiva (self):        #Esta función dirá cuándo acaba una tanda de clientes    \n",
    "        #que vaya bajando *************\n",
    "        if self.reloj==0:\n",
    "            self.disponible=True \n",
    "            subir_clientes()               #la definimos de forma tal que suba automáticamente la gente de la cola\n",
    "            self.reloj=self.tiempo\n",
    "            return None\n",
    "        \n",
    "    def fallar\n",
    "        \n",
    "        \n",
    "\n",
    "class Parque:\n",
    "    def __init__(self,atracciones):  #el input va a ser una lista con las 5 atracciones más caras\n",
    "    \n",
    "        self.atracciones#FALTA CREAR LA CLASE \"Atraccion\"\n",
    "\n",
    "\n",
    "class Persona:\n",
    "    def __init__(self):\n",
    "        self.dinero=0  #ponemos esto por defecto, pues en las subclases Antonio y Visitante lo vamos a redefinir\n",
    "        \n",
    "\n",
    "\n",
    "\n",
    "class Visitante(Persona):\n",
    "    def __init__(self,tupla):   #recibirá de input, un elemento de la lista PERSONAS\n",
    "        super().__init__(self)\n",
    "        self.dinero=tupla[0]\n",
    "        self.llegada=tupla[1]\n",
    "        self.nombre=tupla[2]\n",
    "        self.edad=birth_to_age(tupla[3]) \n",
    "            \n",
    "            \n",
    "    #def irse_dignamente():  Vamos a definirla cuando hayamos creado la clase \"atracciones\"\n",
    "    \n",
    "#class Antonio(Persona):\n",
    "#    def __init__(self,dinero=100000):   #recibirá de input, una tupla de la lista PERSONAS\n",
    "#        super().__init__(self):\n",
    "\n",
    "            \n",
    "        "
   ]
  },
  {
   "cell_type": "code",
   "execution_count": 69,
   "metadata": {
    "collapsed": true
   },
   "outputs": [
    {
     "name": "stdout",
     "output_type": "stream",
     "text": [
      "deque(['bryan'])\n",
      "['bryan']\n",
      "deque([])\n"
     ]
    }
   ],
   "source": [
    "\"\"\"PROBANDO\"\"\"\n",
    "\n",
    "castillo=Atraccion(\"castillo\",5,3000,45000,7)\n",
    "castillo.aceptar_visitante(\"bryan\")\n",
    "castillo.subir_visitantes()\n",
    "print(castillo.usuarios)\n",
    "print(castillo.cola)"
   ]
  },
  {
   "cell_type": "code",
   "execution_count": null,
   "metadata": {},
   "outputs": [],
   "source": [
    "def creadora_de_atracciones(ATRACCIONES):   #a partir del diccionario ATRACCIONES compuesto por listas, \n",
    "                                            #haremos otro diccionario compuesto por instancias de la clase Atraccion"
   ]
  },
  {
   "cell_type": "code",
   "execution_count": 11,
   "metadata": {},
   "outputs": [
    {
     "name": "stdout",
     "output_type": "stream",
     "text": [
      "deque([])\n",
      "False\n",
      "2\n"
     ]
    }
   ],
   "source": [
    "a=deque()\n",
    "print(a)\n",
    "if a:\n",
    "    print(True)\n",
    "else:\n",
    "    print(False)\n",
    "a.append(\"hola\")\n",
    "a.append(\"chao\")\n",
    "print(len(a))"
   ]
  }
 ],
 "metadata": {
  "kernelspec": {
   "display_name": "Python 3",
   "language": "python",
   "name": "python3"
  },
  "language_info": {
   "codemirror_mode": {
    "name": "ipython",
    "version": 3
   },
   "file_extension": ".py",
   "mimetype": "text/x-python",
   "name": "python",
   "nbconvert_exporter": "python",
   "pygments_lexer": "ipython3",
   "version": "3.6.4"
  }
 },
 "nbformat": 4,
 "nbformat_minor": 2
}
