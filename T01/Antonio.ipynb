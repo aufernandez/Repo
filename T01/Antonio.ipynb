{
 "cells": [
  {
   "cell_type": "code",
   "execution_count": 16,
   "metadata": {},
   "outputs": [
    {
     "name": "stdout",
     "output_type": "stream",
     "text": [
      "{'Booster': [1, 500, 290000, 1], 'Rata Vacilona': [4, 1250, 250000, 4], 'Extreme': [28, 750, 260000, 3], 'Rana Loca': [6, 1700, 310000, 5], 'Top Gun': [26, 800, 390000, 5], 'MaxiDance': [17, 1750, 270000, 2], 'Boomerang': [11, 1050, 320000, 5], 'The Limit': [23, 1950, 360000, 5], 'Aladelta': [10, 1150, 330000, 2], 'Noria': [16, 900, 370000, 4], 'Barco Vikingo': [29, 1500, 350000, 4], 'Cataratas': [5, 1200, 200000, 2], 'Martillo': [19, 1550, 240000, 3], 'Jet Star': [24, 350, 230000, 1]}\n"
     ]
    }
   ],
   "source": [
    "from CONSTANTES import PERSONAS, ATRACCIONES\n",
    "from collections import deque\n",
    "from datetime import date,datetime\n",
    "\n",
    "class Persona:\n",
    "    def __init__(self, dinero = 0):\n",
    "        self.dinero = dinero\n",
    "class Parque:\n",
    "    def __init__(self,atracciones):  #el input va a ser una lista con las 5 atracciones más caras\n",
    "    \n",
    "        self.atracciones = atracciones#FALTA CREAR LA CLASE \"Atraccion\"\n",
    "print(ATRACCIONES)\n",
    "class Atraccion:\n",
    "    def __init__(self,nombre,capacidad,entrada,costo,tiempo): #El input son todos los datos de una ATRACCION\n",
    "        self.nombre=nombre\n",
    "        self.capacidad=capacidad\n",
    "        self.entrada=entrada               #costo_entrada\n",
    "        self.costo=costo                   #costo_atraccion (lo que cuesta comprarla)\n",
    "        self.tiempo=tiempo                 #minutos_por_vuelta\n",
    "        \n",
    "        self.cola=deque()                  #los que están esperando para entrar\n",
    "        self.usuarios=[]                   #los que están adentro de la atracción\n",
    "        self.recaudacion=0                 #***lo recaudado hasta el momento, en algún momento esto se traspasa a Antonio\n",
    "        self.contador_clientes=0           #***lleva la cuenta de todos los que han ENTRADO, no sé si voy a usar esto jaja\n",
    "        self.reloj=self.tiempo             #cuenta regresiva, parte siendo los minutos_por_vuelta. A medida que avanza la \n",
    "                                           #simulación va bajando hasta llegar a 0, donde se sube una nueva tanda de \n",
    "                                           #clientes y vuelve a ser self.tiempo\n",
    "        self.disponible=True               #***Esto va a ser False cuando esté siendo usada o cuando haya fallado y esté\n",
    "                                           #cerrada por 1 hora. Puede que sea innecesaria"
   ]
  },
  {
   "cell_type": "code",
   "execution_count": 21,
   "metadata": {},
   "outputs": [
    {
     "name": "stdout",
     "output_type": "stream",
     "text": [
      "Booster\n",
      "Rata Vacilona\n",
      "Extreme\n",
      "Rana Loca\n",
      "Top Gun\n",
      "MaxiDance\n",
      "Boomerang\n",
      "The Limit\n",
      "Aladelta\n",
      "Noria\n",
      "Barco Vikingo\n",
      "Cataratas\n",
      "Martillo\n",
      "Jet Star\n",
      "[<__main__.Atraccion object at 0x000001B3A3CCFBA8>, <__main__.Atraccion object at 0x000001B3A3CCFC50>, <__main__.Atraccion object at 0x000001B3A3D1EC88>, <__main__.Atraccion object at 0x000001B3A3D1EAC8>, <__main__.Atraccion object at 0x000001B3A3D1EA20>, <__main__.Atraccion object at 0x000001B3A3D1E860>, <__main__.Atraccion object at 0x000001B3A3D1E198>, <__main__.Atraccion object at 0x000001B3A3D1E978>, <__main__.Atraccion object at 0x000001B3A3D1EDD8>, <__main__.Atraccion object at 0x000001B3A3D1E2B0>, <__main__.Atraccion object at 0x000001B3A3D1E1D0>, <__main__.Atraccion object at 0x000001B3A3D1EDA0>, <__main__.Atraccion object at 0x000001B3A3D1ED68>, <__main__.Atraccion object at 0x000001B3A3D1ECC0>]\n"
     ]
    }
   ],
   "source": [
    "lista_objetos_atracciones = []\n",
    "for key in ATRACCIONES.keys():\n",
    "    Objeto = Atraccion(key, ATRACCIONES[key][0], ATRACCIONES[key][1], ATRACCIONES[key][2], ATRACCIONES[key][3])\n",
    "    \n",
    "    lista_objetos_atracciones.append(Objeto)\n",
    "for i in lista_objetos_atracciones:\n",
    "    print(i.nombre)\n"
   ]
  },
  {
   "cell_type": "code",
   "execution_count": 14,
   "metadata": {},
   "outputs": [
    {
     "name": "stdout",
     "output_type": "stream",
     "text": [
      "a\n",
      "c\n",
      "e\n"
     ]
    }
   ],
   "source": [
    "dic ={0:'abc',1:'bcd',2:'cde'}\n",
    "for k in dic.keys():\n",
    "    a = dic[k][k]\n",
    "    print (a)"
   ]
  },
  {
   "cell_type": "code",
   "execution_count": 9,
   "metadata": {},
   "outputs": [],
   "source": [
    "\n",
    "atracciones_parque = [] ###HAY QUE CAMBIARLO, la lista es un atributo del objeto parque\n",
    "class Antonio(Persona):\n",
    "    def __init__(self, dinero = 100000):\n",
    "        self.dinero = dinero   ###dinero dinero dinero aprende algo dinero\n",
    "    def comprar_atraccion(self):   ##asumiendo una lista 'atracciones' con objetos de las del archivo ordenadas de mayor a menor\n",
    "        self.dinero = self.dinero/2\n",
    "        atracciones_parque.append(atracciones.pop())\n",
    "    def duplicar_precios(self, atracciones):\n",
    "        for atraccion in atracciones_parque:\n",
    "            atraccion.entrada = atraccion.entrada*2\n"
   ]
  },
  {
   "cell_type": "code",
   "execution_count": 10,
   "metadata": {},
   "outputs": [
    {
     "name": "stdout",
     "output_type": "stream",
     "text": [
      "1\n"
     ]
    },
    {
     "ename": "TypeError",
     "evalue": "pop expected at least 1 arguments, got 0",
     "output_type": "error",
     "traceback": [
      "\u001b[1;31m---------------------------------------------------------------------------\u001b[0m",
      "\u001b[1;31mTypeError\u001b[0m                                 Traceback (most recent call last)",
      "\u001b[1;32m<ipython-input-10-254bd32d0122>\u001b[0m in \u001b[0;36m<module>\u001b[1;34m()\u001b[0m\n\u001b[0;32m      3\u001b[0m \u001b[1;32mfor\u001b[0m \u001b[0mi\u001b[0m \u001b[1;32min\u001b[0m \u001b[0mrange\u001b[0m\u001b[1;33m(\u001b[0m\u001b[1;36m1\u001b[0m\u001b[1;33m,\u001b[0m\u001b[1;36m4\u001b[0m\u001b[1;33m)\u001b[0m\u001b[1;33m:\u001b[0m\u001b[1;33m\u001b[0m\u001b[0m\n\u001b[0;32m      4\u001b[0m     \u001b[0mprint\u001b[0m\u001b[1;33m(\u001b[0m\u001b[0mi\u001b[0m\u001b[1;33m)\u001b[0m\u001b[1;33m\u001b[0m\u001b[0m\n\u001b[1;32m----> 5\u001b[1;33m     \u001b[0mPH\u001b[0m\u001b[1;33m.\u001b[0m\u001b[0matracciones\u001b[0m\u001b[1;33m.\u001b[0m\u001b[0mappend\u001b[0m\u001b[1;33m(\u001b[0m\u001b[0mATRACCIONES\u001b[0m\u001b[1;33m.\u001b[0m\u001b[0mpop\u001b[0m\u001b[1;33m(\u001b[0m\u001b[1;33m)\u001b[0m\u001b[1;33m)\u001b[0m   \u001b[1;31m###CAMBIAR LA LISTA Y EL NOMBRE\u001b[0m\u001b[1;33m\u001b[0m\u001b[0m\n\u001b[0m\u001b[0;32m      6\u001b[0m \u001b[1;33m\u001b[0m\u001b[0m\n",
      "\u001b[1;31mTypeError\u001b[0m: pop expected at least 1 arguments, got 0"
     ]
    }
   ],
   "source": [
    "### COMO SERIA EL FUNCIONAMIENTO:\n",
    "PlaceHolder = Parque([]) #placeholder nombre\n",
    "for i in range(1,4):\n",
    "    print(i)\n",
    "    PlaceHolder.atracciones.append(.pop())   ###CAMBIAR LA LISTA Y EL NOMBRE\n",
    "    "
   ]
  },
  {
   "cell_type": "code",
   "execution_count": null,
   "metadata": {},
   "outputs": [],
   "source": []
  }
 ],
 "metadata": {
  "kernelspec": {
   "display_name": "Python 3",
   "language": "python",
   "name": "python3"
  },
  "language_info": {
   "codemirror_mode": {
    "name": "ipython",
    "version": 3
   },
   "file_extension": ".py",
   "mimetype": "text/x-python",
   "name": "python",
   "nbconvert_exporter": "python",
   "pygments_lexer": "ipython3",
   "version": "3.6.4"
  }
 },
 "nbformat": 4,
 "nbformat_minor": 2
}
