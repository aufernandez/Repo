{
 "cells": [
  {
   "cell_type": "code",
   "execution_count": 2,
   "metadata": {},
   "outputs": [],
   "source": [
    "from CONSTANTES import PERSONAS, ATRACCIONES\n",
    "from collections import deque\n",
    "from datetime import date,datetime\n",
    "\n",
    "class Persona:\n",
    "    def __init__(self, dinero = 0):\n",
    "        self.dinero = dinero\n",
    "class Parque:\n",
    "    def __init__(self,atracciones):  #el input va a ser una lista con las 5 atracciones más caras\n",
    "    \n",
    "        self.atracciones#FALTA CREAR LA CLASE \"Atraccion\"\n",
    "\n"
   ]
  },
  {
   "cell_type": "code",
   "execution_count": 3,
   "metadata": {},
   "outputs": [],
   "source": [
    "\n",
    "atracciones_parque = [] ###HAY QUE CAMBIARLO, la lista es un atributo del objeto parque\n",
    "class Antonio(Persona):\n",
    "    def __init__(self, dinero = 100000):\n",
    "        self.dinero = dinero   ###dinero dinero dinero aprende algo dinero\n",
    "    def comprar_atraccion(self):   ##asumiendo una lista 'atracciones' con objetos de las del archivo ordenadas de mayor a menor\n",
    "        self.dinero = self.dinero/2\n",
    "        atracciones_parque.append(atracciones.pop())\n",
    "    def duplicar_precios(self, atracciones):\n",
    "        for atraccion in atracciones_parque:\n",
    "            atraccion.entrada = atraccion.entrada*2\n"
   ]
  },
  {
   "cell_type": "code",
   "execution_count": null,
   "metadata": {},
   "outputs": [],
   "source": [
    "### COMO SERIA EL FUNCIONAMIENTO:\n",
    "PH = Parque([]) #placeholder nombre\n",
    "for i in range(1,4):\n",
    "    print(i)\n",
    "    PH.atracciones.append(ATRACCIONES.pop())   ###CAMBIAR LA LISTA\n",
    "    "
   ]
  }
 ],
 "metadata": {
  "kernelspec": {
   "display_name": "Python 3",
   "language": "python",
   "name": "python3"
  },
  "language_info": {
   "codemirror_mode": {
    "name": "ipython",
    "version": 3
   },
   "file_extension": ".py",
   "mimetype": "text/x-python",
   "name": "python",
   "nbconvert_exporter": "python",
   "pygments_lexer": "ipython3",
   "version": "3.6.4"
  }
 },
 "nbformat": 4,
 "nbformat_minor": 2
}
